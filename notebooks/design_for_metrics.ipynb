{
 "cells": [
  {
   "attachments": {},
   "cell_type": "markdown",
   "metadata": {},
   "source": [
    "The metrics functions expect `predictions` to be a `pandas.DataFrame`:\n",
    "\n",
    "* Index: `target_datetime_utc`\n",
    "* Columns:\n",
    "  - `t0_datetime_utc`\n",
    "  - `forecast_pv_yield`  # Values must be in the range [0, 1]\n",
    "\n",
    "The `actual` values are a `pd.Series`, where the index is the `target_datetime_utc`,\n",
    "and the values are the `actual_pv_yield` (in the range [0, 1]).\n",
    "\n",
    "Metrics are defined by a `metrics_pipeline` which is a tuple of one or more `callable` objects.\n",
    "For example:\n",
    "\n",
    "```python\n",
    "# Define re-usable metrics pipelines: The keys of the dict are human-readable metric names,\n",
    "# and the values of the dict are the pipeline tuples.\n",
    "metrics_pipelines: dict[str, tuple[Callable, ...]] = {\n",
    "    \"MAE in MW, ignoring night\": (\n",
    "        # Multiply the `predictions` and the `actual` by national installed PV capacity:\n",
    "        Denormalize(national_pv_capacity_mwp_per_target_datetime_utc),\n",
    "        # Drop any values that occur at \"night\". Where \"night\" is defined as when the Sun\n",
    "        # is below a particular angle in the sky:\n",
    "        IgnoreNight(latitude, longitude, threshold_for_sun_angle_in_degrees=-5),\n",
    "        # Compute the absolute error for each timestep:\n",
    "        absolute_error,\n",
    "        # Compute the mean across all timesteps:\n",
    "        mean,\n",
    "    ),\n",
    "    \"NMAE per month, including night\": (\n",
    "        # Compute the absolute error for each timestep:\n",
    "        absolute_error,\n",
    "        # Group by month:\n",
    "        GroupBy(pd.Grouper(freq=\"M\")),\n",
    "        # Compute the mean absolute error per month:\n",
    "        mean,\n",
    "    ),\n",
    "    \"NMAE per hour, ignoring night\": (\n",
    "        IgnoreNight(latitude, longitude, threshold_for_sun_angle_in_degrees=-5),\n",
    "        absolute_error,\n",
    "        # Group by hour of day:\n",
    "        GroupBy(pd.Grouper(freq=\"H\")),\n",
    "        # Compute the mean absolute error per hour of the day:\n",
    "        mean,\n",
    "    ),\n",
    "    \"NMAE per forecast step, ignoring night\": (\n",
    "        IgnoreNight(latitude, longitude, threshold_for_sun_angle_in_degrees=-5),\n",
    "        absolute_error,\n",
    "        # Group by forecast step:\n",
    "        GroupBy(pd.Grouper(key=\"step\")),\n",
    "        # Compute the mean absolute error per hour of the day:\n",
    "        mean,\n",
    "    )\n",
    "}\n",
    "\n",
    "# Run the pipelines:\n",
    "metrics_results: dict[str, Union[Number, pd.Series, pd.DataFrame]] = run_all_pipelines(\n",
    "    metrics_pipelines, predictions, actual)\n",
    "```"
   ]
  },
  {
   "cell_type": "code",
   "execution_count": 15,
   "metadata": {},
   "outputs": [],
   "source": [
    "from pv_forecast.metrics import absolute_error\n",
    "import pandas as pd\n",
    "import numpy as np\n",
    "\n",
    "\n",
    "target_datetime_utc = pd.date_range(\n",
    "    start=\"2020-01-01\", end=\"2020-01-10\", freq=\"30T\", tz=\"UTC\", name=\"target_datetime_utc\")\n",
    "step = pd.timedelta_range(start=\"0 hours\", end=\"48 hours\", freq=\"30T\", closed=\"left\", name=\"step\")\n",
    "    "
   ]
  },
  {
   "cell_type": "code",
   "execution_count": 10,
   "metadata": {},
   "outputs": [],
   "source": [
    "predictions = pd.Series(\n",
    "    0,\n",
    "    pd.MultiIndex.from_product([target_datetime_utc, step]),\n",
    "    name=\"forecast_pv_yield\",\n",
    ")"
   ]
  },
  {
   "cell_type": "code",
   "execution_count": 11,
   "metadata": {},
   "outputs": [
    {
     "data": {
      "text/plain": [
       "target_datetime_utc        step           \n",
       "2020-01-01 00:00:00+00:00  0 days 00:00:00    0\n",
       "                           0 days 00:30:00    0\n",
       "                           0 days 01:00:00    0\n",
       "                           0 days 01:30:00    0\n",
       "                           0 days 02:00:00    0\n",
       "                                             ..\n",
       "2020-01-10 00:00:00+00:00  1 days 21:30:00    0\n",
       "                           1 days 22:00:00    0\n",
       "                           1 days 22:30:00    0\n",
       "                           1 days 23:00:00    0\n",
       "                           1 days 23:30:00    0\n",
       "Name: forecast_pv_yield, Length: 41568, dtype: int64"
      ]
     },
     "execution_count": 11,
     "metadata": {},
     "output_type": "execute_result"
    }
   ],
   "source": [
    "predictions"
   ]
  },
  {
   "cell_type": "code",
   "execution_count": 12,
   "metadata": {},
   "outputs": [],
   "source": [
    "actual = pd.Series(\n",
    "    1,\n",
    "    target_datetime_utc,\n",
    "    name=\"actual_pv_yield\",\n",
    ")"
   ]
  },
  {
   "cell_type": "code",
   "execution_count": 25,
   "metadata": {},
   "outputs": [
    {
     "data": {
      "text/plain": [
       "step\n",
       "0 days 00:00:00    1.0\n",
       "0 days 03:00:00    1.0\n",
       "0 days 06:00:00    1.0\n",
       "0 days 09:00:00    1.0\n",
       "0 days 12:00:00    1.0\n",
       "0 days 15:00:00    1.0\n",
       "0 days 18:00:00    1.0\n",
       "0 days 21:00:00    1.0\n",
       "1 days 00:00:00    1.0\n",
       "1 days 03:00:00    1.0\n",
       "1 days 06:00:00    1.0\n",
       "1 days 09:00:00    1.0\n",
       "1 days 12:00:00    1.0\n",
       "1 days 15:00:00    1.0\n",
       "1 days 18:00:00    1.0\n",
       "1 days 21:00:00    1.0\n",
       "Freq: 3H, dtype: float64"
      ]
     },
     "execution_count": 25,
     "metadata": {},
     "output_type": "execute_result"
    }
   ],
   "source": [
    "pd.core.groupby.GroupBy.mean(np.abs(np.subtract(predictions, actual)).groupby(\n",
    "    pd.Grouper(level=\"step\", freq=\"3H\")))"
   ]
  },
  {
   "cell_type": "code",
   "execution_count": 24,
   "metadata": {},
   "outputs": [
    {
     "data": {
      "text/plain": [
       "<function pandas.core.groupby.groupby.GroupBy.mean(self, numeric_only: 'bool | lib.NoDefault' = <no_default>, engine: 'str' = 'cython', engine_kwargs: 'dict[str, bool] | None' = None)>"
      ]
     },
     "execution_count": 24,
     "metadata": {},
     "output_type": "execute_result"
    }
   ],
   "source": []
  },
  {
   "cell_type": "code",
   "execution_count": 26,
   "metadata": {},
   "outputs": [
    {
     "data": {
      "text/plain": [
       "<function pandas.core.series.Series.groupby(self, by=None, axis: 'Axis' = 0, level: 'Level' = None, as_index: 'bool' = True, sort: 'bool' = True, group_keys: 'bool | lib.NoDefault' = <no_default>, squeeze: 'bool | lib.NoDefault' = <no_default>, observed: 'bool' = False, dropna: 'bool' = True) -> 'SeriesGroupBy'>"
      ]
     },
     "execution_count": 26,
     "metadata": {},
     "output_type": "execute_result"
    }
   ],
   "source": [
    "pd.Series.groupby"
   ]
  },
  {
   "cell_type": "code",
   "execution_count": null,
   "metadata": {},
   "outputs": [],
   "source": []
  }
 ],
 "metadata": {
  "kernelspec": {
   "display_name": "pv_forecast",
   "language": "python",
   "name": "python3"
  },
  "language_info": {
   "codemirror_mode": {
    "name": "ipython",
    "version": 3
   },
   "file_extension": ".py",
   "mimetype": "text/x-python",
   "name": "python",
   "nbconvert_exporter": "python",
   "pygments_lexer": "ipython3",
   "version": "3.10.9"
  },
  "orig_nbformat": 4
 },
 "nbformat": 4,
 "nbformat_minor": 2
}
